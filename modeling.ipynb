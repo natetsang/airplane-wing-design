{
 "cells": [
  {
   "cell_type": "markdown",
   "metadata": {},
   "source": [
    "# Airfoil Design using Machine Learning\n",
    "---\n",
    "## Summary\n",
    "\n",
    "__Code under construction...__\n",
    "\n",
    "The design of mechanical systems is the foundation for nearly all physical engineering creations--- from simple structures like a kitchen table to complex systems such as a commercial aircraft. The development of these systems undergo a significant series of steps, beginning with defining initial specifications, generating, analyzing, and selecting the optimal solution, and finally testing and implementing this solution.\n",
    "\n",
    "An example of this process is in the aerodynamic design of airplane wing structures. Airplane wings operate on the theory of flight, in which a wing will undergo a lift force and a drag force. In the development of a wing, an engineer or company will set a lift and drag requirement for the structure, which necessitates proper design and analysis procedures. \n",
    "\n",
    "Engineers rely on physics simulation and analysis tools to guide the work flow for meeting certain criteria. One such tool to simulate the lift and drag of an airplane is through Computational Fluid Dynamics (CFD). While these tools produce highly accurate models and results, simulations are computationally demanding, especially if an engineer is iterating through various designs with subtle tweaks between each one.\n",
    "\n",
    "Rapidly evolving machine learning tools have unveiled new methods to predict the behavior of certain parameters. __Using lift results from CFD software, we investigated the prospect of using machine learning (ML) models to predict the performance (i.e. lift) of an airfoil depending on the airfoil's geometry and test environment.__\n",
    "\n",
    "## Key questions explored\n",
    "- Instead of running 100,000s of CFD simulations, can engineers train a ML model on a small number of CFD simulations to predict the lift of a wide variety of airfoil shapes? \n",
    "- If so, can they do it with high accuracy and be more time efficient than the usual approach? \n",
    "\n",
    "## Techniques used\n",
    "- linear, ridge, lasso regression\n",
    "- partial least squares regression\n",
    "- regression trees, boosting, random forest\n",
    "- neural networks\n",
    "- bootstrap\n",
    "\n",
    "\n",
    "## Key findings\n",
    "\n",
    "![Test results for 5000 training samples](results_5000train.png)\n",
    "\n",
    "- __Integrating ML modeling into the airfoil design workflow significantly reduces computation time and, depending on which type of ML modeling is used, may or may not sacrifice accuracy.__ This provides an additional degree of flexibility for design engineers who are worried about computation time. \n",
    "    - For design problems where a large range of potential shapes, Reynolds numbers, and angle of attacks need to be considered, but model accuracy is not imperative, it would be advantageous to use either a regression tree or neural net model. \n",
    "    - For problems with a more narrow range in design parameters, or when it is not possible to sacrifice model accuracy for computation time, using a Boosting model with a training set of 5,000 observations would be ideal. This will reduce computation in comparison to the brute force approach and, since the MAE is around 0.005, we can consider the error associated with this model to be acceptable.\n",
    "- Regardless of training sample size, __boosting and random forest models had the lowest test MAE,__ while lasso had the highest. \n",
    "\n",
    "\n",
    "## Table of Contents\n",
    "\n",
    "> ### Part 1. [Data creation](#data)\n",
    "> ### Part 2. [Establish modeling procedure](#procedure)\n",
    "> ### Part 3. [Create helper functions](#functions)\n",
    "> ### Part 4. [Linear regression](#linreg)\n",
    "> ### Part 5. [Ridge regression](#ridge)\n",
    "> ### Part 6. [Lasso regression](#lasso)\n",
    "> ### Part 7. [Decision Tree](#CART)\n",
    "> ### Part 8. [Random Forest](#RF)\n",
    "> ### Part 9. [Boosting](#boosting)\n",
    "> ### Part 10. [Partial Least Squares](#PLS)\n",
    "> ### Part 11. [Neural network](#neural)\n",
    "> ### Part 12. [Results](#results)\n",
    "> ### Part 13. [Discussion](#discussion)\n",
    "---"
   ]
  },
  {
   "cell_type": "code",
   "execution_count": 1,
   "metadata": {},
   "outputs": [],
   "source": [
    "import pandas as pd\n",
    "import numpy as np\n",
    "from sklearn.linear_model import LinearRegression\n",
    "from sklearn.linear_model import Ridge\n",
    "from sklearn.linear_model import Lasso\n",
    "from sklearn.cross_decomposition import PLSRegression, PLSSVD\n",
    "from sklearn.decomposition import PCA\n",
    "from sklearn.ensemble import RandomForestRegressor\n",
    "from sklearn.tree import DecisionTreeRegressor\n",
    "from sklearn.ensemble import GradientBoostingRegressor\n",
    "\n",
    "from sklearn.model_selection import cross_val_score\n",
    "from sklearn.metrics import mean_absolute_error\n",
    "from sklearn.model_selection import train_test_split \n",
    "import matplotlib.pyplot as plt\n",
    "from sklearn.preprocessing import StandardScaler\n",
    "from sklearn.utils import resample\n",
    "from sklearn.model_selection import GridSearchCV\n",
    "import warnings\n",
    "warnings.filterwarnings('ignore') # Filter out warnings"
   ]
  },
  {
   "cell_type": "markdown",
   "metadata": {},
   "source": [
    "---"
   ]
  },
  {
   "cell_type": "markdown",
   "metadata": {},
   "source": [
    "<a id=\"data\"></a>\n",
    "### Part 1: Data creation\n",
    "\n",
    "#### 1.1 Process for creating raw data\n",
    "- The data used in this assignment was created in a previous aerodynamics design project using XFOIL CFD. \n",
    "- A total of 60,000 CFD simulations simulations were conducted for around 1,100 different airfoil designs, each tested using different angles of attack and Reynolds numbers. Each simulation returned several outputs characterizing fluid flow around the airfoil, including lift force and drag force. \n",
    "- Data from these simulation were stored in CSV files so they could be easily accessed within a programming environment like R or Python. Included in the CSV files were several numeric parameters which characterize the shape of the airfoil and the test enviornment.\n",
    "- After compiling all the CFD simulations, the data was stored in Google Drive. To pull the data into R for processing, the Google Drive package was implemented. This code was able to pull the data from the Drive, extract the necessary feature parameters into a Data Frame, then delete the file from the computer so that excess data would not need to be stored locally. \n",
    "- To meet the project goal of using a small amount of data to accurately predict lift on wide variety of airfoils, a subset of the 60,000+ observations needed to be selected for training the ML models. To accomplish this, the original 60,000+ observations were randomly scrambled to create an even distribution of data. From that scrambled dataset, data was randomly sampled to create a test set with 5000 observations, and three different training sets with 1000, 5000, and 10000 observations, respectively. This process ensured that each training set would contain an accurate representation of the full dataset. Each ML model utilized the same datasets so that that their relative performance could be compared.\n",
    "\n",
    "#### 1.2 Features and response variable\n",
    "A total of 5 features were utilized in the ML to characterize the CFD simulations:\n",
    "- Relating to airfoil geometry:\n",
    "    1. bluntness of leading edge\n",
    "    2. location of max thickness\n",
    "    3. sharpness of trailing edge\n",
    "- Relating to the test environment:\n",
    "    4. Reynolds number of fluid flow\n",
    "    5. angle of attack\n",
    "    \n",
    "The response variable was the lift coefficient of the airfoil.\n",
    "\n",
    "#### 1.3 Extract data from excel files for ML modeling"
   ]
  },
  {
   "cell_type": "code",
   "execution_count": 2,
   "metadata": {},
   "outputs": [],
   "source": [
    "# Training set with 1000 samples\n",
    "df_train1000 = pd.read_excel('train_data.xlsx', sheet_name='Train 1000').drop(columns='Max_Thickness')\n",
    "X_train1000 = df_train1000.loc[:, df_train1000.columns != 'CL']\n",
    "y_train1000 = df_train1000[['CL']]\n",
    "\n",
    "# Training set with 5000 samples\n",
    "df_train5000 = pd.read_excel('train_data.xlsx', sheet_name='Train 5000').drop(columns='Max_Thickness')\n",
    "X_train5000 = df_train5000.loc[:, df_train5000.columns != 'CL']\n",
    "y_train5000 = df_train5000[['CL']]\n",
    "\n",
    "# Training set with 10000 samples\n",
    "df_train10000 = pd.read_excel('train_data.xlsx', sheet_name='Train 10000').drop(columns='Max_Thickness')\n",
    "X_train10000 = df_train10000.loc[:, df_train10000.columns != 'CL']\n",
    "y_train10000 = df_train10000[['CL']]\n",
    "\n",
    "# Test set\n",
    "df_test = pd.read_excel('test_data.xlsx').drop(columns='Max_Thickness')\n",
    "X_test = df_test.loc[:, df_test.columns != 'CL']\n",
    "y_test = df_test[['CL']]"
   ]
  },
  {
   "cell_type": "markdown",
   "metadata": {},
   "source": [
    "#### 1.4 Normalize data \n",
    "Since the scale of the feature values vary significantly, I will normalize the data using `StandardScaler()` which transforms the data using $z = \\dfrac{x - u}{s}$ where $u$ is the mean of the feature values, and $s$ is the standard deviation."
   ]
  },
  {
   "cell_type": "code",
   "execution_count": 3,
   "metadata": {},
   "outputs": [
    {
     "name": "stdout",
     "output_type": "stream",
     "text": [
      "Preparing train/val sets...\n",
      ">> X_train and X_val normalized\n",
      "\n"
     ]
    }
   ],
   "source": [
    "print(\"Preparing train/val sets...\")\n",
    "\n",
    "# create scaling object\n",
    "X_scaler = StandardScaler()\n",
    "X_train1000 = X_scaler.fit_transform(X_train1000)\n",
    "X_train5000 = X_scaler.fit_transform(X_train5000)\n",
    "X_train10000 = X_scaler.fit_transform(X_train10000)\n",
    "\n",
    "X_test = X_scaler.fit_transform(X_test)\n",
    "print(\">> X_train and X_val normalized\\n\")"
   ]
  },
  {
   "cell_type": "markdown",
   "metadata": {},
   "source": [
    "<a id=\"procedure\"></a>\n",
    "### Part 2: Establish modeling procedures\n",
    "\n",
    "1. Define a model type (e.g. logistic regression, KNN, etc)\n",
    "\n",
    "2. Identify hyperparameters to test using cross validation\n",
    "\n",
    "3. Find best hyperparameters using `CV_with_GridSearch` function\n",
    "\n",
    "4. Instantiate model using optimal hyperparameters found in Step 3\n",
    "\n",
    "5. Fit model and calculate model accuracy on train and test data using `estimate_model_results` function. If interested, bootstrap accuracy confidence intervals by setting `boostrap_results=True`\n",
    "\n",
    "6. Take note of the differences in accuracy, and methods."
   ]
  },
  {
   "cell_type": "markdown",
   "metadata": {},
   "source": [
    "<a id=\"functions\"></a>\n",
    "### Part 3: Create helper functions\n",
    "To complete the procedures identified in Part 2, I will create three helper functions, found in Sections 3.1 - 3.3. \n",
    "\n",
    "#### 3.1 Hyperparameter selection via cross-validation"
   ]
  },
  {
   "cell_type": "code",
   "execution_count": 4,
   "metadata": {},
   "outputs": [],
   "source": [
    "def CV_with_GridSearch(estimator, h_parameters, cv, X_train, y_train):\n",
    "    \"\"\"\n",
    "    Finds optimal hyperparameters for given model using GridSearchCV.\n",
    "    \n",
    "    Keyword arguments:\n",
    "    estimator (sklearn model) -- instantiated ML model (e.g. SVC())\n",
    "    h_parameters (list of dicts) -- hyperparameters to test\n",
    "                                        e.g [{'multi_class': ['ovr'],\n",
    "                                              'C': [0.01, 0.1, 1]},\n",
    "    cv (int) -- number of folds to use in cross validation\n",
    "    \n",
    "    Returns:\n",
    "    best_params (dict) -- most optimal parameters based on CV\n",
    "    \"\"\"\n",
    "    clf = GridSearchCV(estimator, h_parameters, scoring='neg_mean_absolute_error', cv=3)\n",
    "    clf.fit(X_train, y_train)\n",
    "    \n",
    "    best_params = clf.best_params_\n",
    "    print(\"Best parameters set found on development set:\\n\")\n",
    "    print(best_params)\n",
    "    print(\"\\nGrid scores on training set:\\n\")\n",
    "\n",
    "    means = clf.cv_results_['mean_test_score']\n",
    "    stds = clf.cv_results_['std_test_score']\n",
    "    for mean, std, params in zip(means, stds, clf.cv_results_['params']):\n",
    "        print(\"%0.3f (+/-%0.03f) for %r\" % (mean, std * 2, params))\n",
    "    return best_params"
   ]
  },
  {
   "cell_type": "markdown",
   "metadata": {},
   "source": [
    "#### 3.2 Model creation and validation results"
   ]
  },
  {
   "cell_type": "code",
   "execution_count": 5,
   "metadata": {},
   "outputs": [],
   "source": [
    "def estimate_model_results(final_estimator, X_train, y_train, X_test, y_test, bootstrap_results=False):\n",
    "    \"\"\"\n",
    "    Calculates train/test accuracy and the test MAE's\n",
    "    upper/lower bounds using bootstrapping.\n",
    "    \n",
    "    Keyword arguments:\n",
    "    final_estimator (sklearn model) -- instantiated ML model (e.g. SVC())\n",
    "    bootstrap_results (boolean) -- bootstraps validation accuracy results\n",
    "    \n",
    "    Returns:\n",
    "    final_estimator (sklearn model) -- trained ML model\n",
    "    MAE_test (float) -- test MAE\n",
    "    MAE_bounds (list) -- confidence intervals for test MAE\n",
    "    \"\"\"\n",
    "    # Fit model to training data\n",
    "    final_estimator.fit(X_train, y_train)    \n",
    "    \n",
    "    # Predict response variable for both train and test sets\n",
    "    y_train_pred = final_estimator.predict(X_train)\n",
    "    y_test_pred = final_estimator.predict(X_test)\n",
    "    \n",
    "    # Calculate MSE on train and test sets\n",
    "    MAE_train = mean_absolute_error(y_train, y_train_pred)\n",
    "    MAE_test = mean_absolute_error(y_test, y_test_pred)  \n",
    "    \n",
    "    print(f'RESULTS\\n\\nModel: {final_estimator}:\\n\\nTraining set size: {len(X_train)} samples\\n----')\n",
    "    print('Train MAE:', MAE_train)\n",
    "    print('Test MAE:', MAE_test)\n",
    "    if bootstrap_results:\n",
    "        MAE_bounds = bootstrap_metrics(1000, 0.95, final_estimator, X_test, y_test)\n",
    "    else:\n",
    "        MAE_bounds = 0\n",
    "    return final_estimator, MAE_test, MAE_bounds\n"
   ]
  },
  {
   "cell_type": "markdown",
   "metadata": {},
   "source": [
    "#### 3.3 Confidence intervals of test results using bootstrapping"
   ]
  },
  {
   "cell_type": "code",
   "execution_count": 6,
   "metadata": {},
   "outputs": [],
   "source": [
    "def bootstrap_metrics(num_iterations, alpha, model, X_test, y_test):\n",
    "    \"\"\"\n",
    "    Calculates upper/lower bounds of accuracy using bootstrapping\n",
    "    \n",
    "    Keyword arguments:\n",
    "    num_iterations (int) -- number of times to run bootstrap\n",
    "    alpha (float) -- confidence interval (e.g. 0.95 means \"95% confidence\")\n",
    "    model (sklearn model) -- pre trained model ready to predict\n",
    "    X_test (pandas dataframe or ndarray) -- Test data \n",
    "    y_test (pandas dataframe/series or ndarray) -- Test response variable\n",
    "    \n",
    "    Returns:\n",
    "    acc_bounds (list) - accuracy CI bounds using bootstrapping\n",
    "    \"\"\"\n",
    "    stat_MAE = []\n",
    "    X_test = pd.DataFrame(X_test)\n",
    "    y_test = pd.DataFrame(y_test).reset_index()[['CL']]\n",
    "    test_set = X_test.join(y_test, how = \"outer\")\n",
    "\n",
    "    for i in range(num_iterations):\n",
    "        test_sample = resample(test_set, n_samples=len(test_set))\n",
    "        X_sample = test_sample.loc[:, test_sample.columns != 'CL']\n",
    "        y_sample = test_sample[['CL']]\n",
    "    \n",
    "        # Calculate MAE\n",
    "        y_pred_sample = model.predict(X_sample) \n",
    "        MAE = mean_absolute_error(y_sample, y_pred_sample)\n",
    "        \n",
    "        # Store scores in list\n",
    "        stat_MAE.append(MAE)\n",
    "    \n",
    "    q_lower = ((1-alpha)/2) * 100\n",
    "    q_upper = (alpha + ((1-alpha)/2)) * 100\n",
    "    \n",
    "    # Accuracy bounds\n",
    "    MAE_lower = max(0, np.percentile(stat_MAE, q_lower))\n",
    "    MAE_upper = min(1, np.percentile(stat_MAE, q_upper))\n",
    "    print('\\n{}% Confidence interval for test MAE = [{} and {}]'.format(alpha*100, MAE_lower, MAE_upper))\n",
    "\n",
    "    MAE_bounds = [MAE_lower, MAE_upper]\n",
    "\n",
    "    # Plot results\n",
    "    plot_bootstrap_results(stat_MAE, MAE_bounds)\n",
    "    \n",
    "\n",
    "    return MAE_bounds"
   ]
  },
  {
   "cell_type": "code",
   "execution_count": 7,
   "metadata": {},
   "outputs": [],
   "source": [
    "def plot_bootstrap_results(statistic, bounds):\n",
    "    \"\"\"\n",
    "    Calculates upper/lower bounds of accuracy using bootstrapping\n",
    "    \n",
    "    Keyword arguments:\n",
    "    num_iterations (int) -- number of times to run bootstrap\n",
    "    alpha (float) -- confidence interval (e.g. 0.95 means \"95% confidence\")\n",
    "    model (sklearn model) -- pre trained model ready to predict\n",
    "    X_val (pandas dataframe or ndarray) -- Validation data \n",
    "    y_val (pandas dataframe/series or ndarray) -- Validation classes\n",
    "    \n",
    "    Returns:\n",
    "        None\n",
    "    \"\"\"\n",
    "    plt.figure(figsize=(4,4))\n",
    "    plt.hist(statistic)\n",
    "    plt.axvline(x=bounds[0], color='r', linestyle='--')\n",
    "    plt.axvline(x=bounds[1], color='r', linestyle='--')\n",
    "\n",
    "    plt.title(\"Bootstrap CI for MAE\", fontsize=12)\n",
    "    plt.xlabel(\"MAE\", fontsize=12)\n",
    "    plt.ylabel(\"Count\", fontsize=12)\n",
    "    plt.show()"
   ]
  },
  {
   "cell_type": "markdown",
   "metadata": {},
   "source": [
    "<a id=\"linreg\"></a>\n",
    "### Part 4: Linear regression \n",
    "\n",
    "#### 4.1 Training on 1000 samples"
   ]
  },
  {
   "cell_type": "code",
   "execution_count": 8,
   "metadata": {},
   "outputs": [
    {
     "name": "stdout",
     "output_type": "stream",
     "text": [
      "RESULTS\n",
      "\n",
      "Model: LinearRegression(copy_X=True, fit_intercept=True, n_jobs=None,\n",
      "         normalize=False):\n",
      "\n",
      "Training set size: 1000 samples\n",
      "----\n",
      "Train MAE: 0.026038162070105054\n",
      "Test MAE: 0.027131963163592506\n",
      "\n",
      "95.0% Confidence interval for test MAE = [0.026562969312268998 and 0.027695939908883496]\n"
     ]
    },
    {
     "data": {
      "image/png": "[encoded data removed]",
      "text/plain": [
       "<Figure size 288x288 with 1 Axes>"
      ]
     },
     "metadata": {
      "needs_background": "light"
     },
     "output_type": "display_data"
    }
   ],
   "source": [
    "# Step 1\n",
    "estimator = LinearRegression()\n",
    "\n",
    "# Steps 2-4 not relevant\n",
    "\n",
    "# Step 5\n",
    "linear_model, MAE_test_linear, CI_ridge = estimate_model_results(\n",
    "    estimator, X_train1000, y_train1000, X_test, y_test, bootstrap_results=True)"
   ]
  },
  {
   "cell_type": "markdown",
   "metadata": {},
   "source": [
    "#### 4.2 Training on 5000 samples"
   ]
  },
  {
   "cell_type": "code",
   "execution_count": 9,
   "metadata": {},
   "outputs": [
    {
     "name": "stdout",
     "output_type": "stream",
     "text": [
      "RESULTS\n",
      "\n",
      "Model: LinearRegression(copy_X=True, fit_intercept=True, n_jobs=None,\n",
      "         normalize=False):\n",
      "\n",
      "Training set size: 5000 samples\n",
      "----\n",
      "Train MAE: 0.026755625457139873\n",
      "Test MAE: 0.027200994596369755\n",
      "\n",
      "95.0% Confidence interval for test MAE = [0.02663489684203734 and 0.027742585534089294]\n"
     ]
    },
    {
     "data": {
      "image/png": "[encoded data removed]",
      "text/plain": [
       "<Figure size 288x288 with 1 Axes>"
      ]
     },
     "metadata": {
      "needs_background": "light"
     },
     "output_type": "display_data"
    }
   ],
   "source": [
    "linear_model, MAE_test_linear, CI_ridge = estimate_model_results(\n",
    "    estimator, X_train5000, y_train5000, X_test, y_test, bootstrap_results=True)"
   ]
  },
  {
   "cell_type": "markdown",
   "metadata": {},
   "source": [
    "#### 4.3 Training on 10000 samples"
   ]
  },
  {
   "cell_type": "code",
   "execution_count": 10,
   "metadata": {},
   "outputs": [
    {
     "name": "stdout",
     "output_type": "stream",
     "text": [
      "RESULTS\n",
      "\n",
      "Model: LinearRegression(copy_X=True, fit_intercept=True, n_jobs=None,\n",
      "         normalize=False):\n",
      "\n",
      "Training set size: 10000 samples\n",
      "----\n",
      "Train MAE: 0.026840902433327\n",
      "Test MAE: 0.026938513715716324\n",
      "\n",
      "95.0% Confidence interval for test MAE = [0.026387867708420196 and 0.027527344518118776]\n"
     ]
    },
    {
     "data": {
      "image/png": "[encoded data removed]",
      "text/plain": [
       "<Figure size 288x288 with 1 Axes>"
      ]
     },
     "metadata": {
      "needs_background": "light"
     },
     "output_type": "display_data"
    }
   ],
   "source": [
    "linear_model, MAE_test_linear, CI_ridge = estimate_model_results(\n",
    "    estimator, X_train10000, y_train10000, X_test, y_test, bootstrap_results=True)"
   ]
  },
  {
   "cell_type": "markdown",
   "metadata": {},
   "source": [
    "<a id=\"ridge\"></a>\n",
    "### Part 5: Ridge regression \n",
    "\n",
    "#### 5.1 Training on 1000 samples"
   ]
  },
  {
   "cell_type": "code",
   "execution_count": 11,
   "metadata": {},
   "outputs": [
    {
     "name": "stdout",
     "output_type": "stream",
     "text": [
      "Best parameters set found on development set:\n",
      "\n",
      "{'alpha': 0.01831563888873418}\n",
      "\n",
      "Grid scores on training set:\n",
      "\n",
      "-0.026 (+/-0.002) for {'alpha': 0.01831563888873418}\n",
      "-0.026 (+/-0.002) for {'alpha': 0.049787068367863944}\n",
      "-0.026 (+/-0.002) for {'alpha': 0.1353352832366127}\n",
      "-0.026 (+/-0.002) for {'alpha': 0.36787944117144233}\n",
      "-0.026 (+/-0.002) for {'alpha': 1.0}\n",
      "-0.026 (+/-0.002) for {'alpha': 2.718281828459045}\n",
      "-0.026 (+/-0.002) for {'alpha': 7.38905609893065}\n",
      "-0.027 (+/-0.001) for {'alpha': 20.085536923187668}\n",
      "-0.029 (+/-0.000) for {'alpha': 54.598150033144236}\n",
      "-0.040 (+/-0.001) for {'alpha': 148.4131591025766}\n"
     ]
    }
   ],
   "source": [
    "# Step 1\n",
    "estimator = Ridge()\n",
    "\n",
    "# Step 2\n",
    "h_parameters = [{'alpha': [np.exp(i) for i in range(-4,6)]}]\n",
    "\n",
    "# Step 3\n",
    "best_params = CV_with_GridSearch(estimator, h_parameters, 10, X_train1000, y_train1000)"
   ]
  },
  {
   "cell_type": "code",
   "execution_count": 12,
   "metadata": {},
   "outputs": [
    {
     "name": "stdout",
     "output_type": "stream",
     "text": [
      "RESULTS\n",
      "\n",
      "Model: Ridge(alpha=0.01831563888873418, copy_X=True, fit_intercept=True,\n",
      "   max_iter=None, normalize=False, random_state=None, solver='auto',\n",
      "   tol=0.001):\n",
      "\n",
      "Training set size: 1000 samples\n",
      "----\n",
      "Train MAE: 0.02603812784618542\n",
      "Test MAE: 0.027132014112904397\n",
      "\n",
      "95.0% Confidence interval for test MAE = [0.026539135358422578 and 0.027732019779984612]\n"
     ]
    },
    {
     "data": {
      "image/png": "[encoded data removed]",
      "text/plain": [
       "<Figure size 288x288 with 1 Axes>"
      ]
     },
     "metadata": {
      "needs_background": "light"
     },
     "output_type": "display_data"
    }
   ],
   "source": [
    "# Step 4\n",
    "ridge_model = Ridge(alpha= best_params['alpha'])\n",
    "\n",
    "# Step 5\n",
    "ridge_model, MAE_test_ridge, CI_ridge = estimate_model_results(\n",
    "    ridge_model, X_train1000, y_train1000, X_test, y_test, bootstrap_results=True)"
   ]
  },
  {
   "cell_type": "markdown",
   "metadata": {},
   "source": [
    "#### 5.1 Training on 5000 samples"
   ]
  },
  {
   "cell_type": "code",
   "execution_count": 13,
   "metadata": {},
   "outputs": [
    {
     "name": "stdout",
     "output_type": "stream",
     "text": [
      "Best parameters set found on development set:\n",
      "\n",
      "{'alpha': 7.38905609893065}\n",
      "\n",
      "Grid scores on training set:\n",
      "\n",
      "-0.027 (+/-0.000) for {'alpha': 0.01831563888873418}\n",
      "-0.027 (+/-0.000) for {'alpha': 0.049787068367863944}\n",
      "-0.027 (+/-0.000) for {'alpha': 0.1353352832366127}\n",
      "-0.027 (+/-0.000) for {'alpha': 0.36787944117144233}\n",
      "-0.027 (+/-0.000) for {'alpha': 1.0}\n",
      "-0.027 (+/-0.000) for {'alpha': 2.718281828459045}\n",
      "-0.027 (+/-0.000) for {'alpha': 7.38905609893065}\n",
      "-0.027 (+/-0.000) for {'alpha': 20.085536923187668}\n",
      "-0.027 (+/-0.000) for {'alpha': 54.598150033144236}\n",
      "-0.027 (+/-0.000) for {'alpha': 148.4131591025766}\n",
      "-0.031 (+/-0.001) for {'alpha': 403.4287934927351}\n",
      "-0.047 (+/-0.002) for {'alpha': 1096.6331584284585}\n"
     ]
    }
   ],
   "source": [
    "# Step 1\n",
    "estimator = Ridge()\n",
    "\n",
    "# Step 2\n",
    "h_parameters = [{'alpha': [np.exp(i) for i in range(-4,8)]}]\n",
    "\n",
    "# Step 3\n",
    "best_params = CV_with_GridSearch(estimator, h_parameters, 10, X_train5000, y_train5000)"
   ]
  },
  {
   "cell_type": "code",
   "execution_count": 14,
   "metadata": {},
   "outputs": [
    {
     "name": "stdout",
     "output_type": "stream",
     "text": [
      "RESULTS\n",
      "\n",
      "Model: Ridge(alpha=7.38905609893065, copy_X=True, fit_intercept=True, max_iter=None,\n",
      "   normalize=False, random_state=None, solver='auto', tol=0.001):\n",
      "\n",
      "Training set size: 5000 samples\n",
      "----\n",
      "Train MAE: 0.026753479839131386\n",
      "Test MAE: 0.027211628027772248\n",
      "\n",
      "95.0% Confidence interval for test MAE = [0.026619658975804154 and 0.027808958785255283]\n"
     ]
    },
    {
     "data": {
      "image/png": "[encoded data removed]",
      "text/plain": [
       "<Figure size 288x288 with 1 Axes>"
      ]
     },
     "metadata": {
      "needs_background": "light"
     },
     "output_type": "display_data"
    }
   ],
   "source": [
    "# Step 4\n",
    "ridge_model = Ridge(alpha= best_params['alpha'])\n",
    "\n",
    "# Step 5\n",
    "ridge_model, MAE_test_ridge, CI_ridge = estimate_model_results(\n",
    "    ridge_model, X_train5000, y_train5000, X_test, y_test, bootstrap_results=True)"
   ]
  },
  {
   "cell_type": "markdown",
   "metadata": {},
   "source": [
    "#### 5.1 Training on 10000 samples"
   ]
  },
  {
   "cell_type": "code",
   "execution_count": 15,
   "metadata": {},
   "outputs": [
    {
     "name": "stdout",
     "output_type": "stream",
     "text": [
      "Best parameters set found on development set:\n",
      "\n",
      "{'alpha': 20.085536923187668}\n",
      "\n",
      "Grid scores on training set:\n",
      "\n",
      "-0.027 (+/-0.001) for {'alpha': 0.01831563888873418}\n",
      "-0.027 (+/-0.001) for {'alpha': 0.049787068367863944}\n",
      "-0.027 (+/-0.001) for {'alpha': 0.1353352832366127}\n",
      "-0.027 (+/-0.001) for {'alpha': 0.36787944117144233}\n",
      "-0.027 (+/-0.001) for {'alpha': 1.0}\n",
      "-0.027 (+/-0.001) for {'alpha': 2.718281828459045}\n",
      "-0.027 (+/-0.001) for {'alpha': 7.38905609893065}\n",
      "-0.027 (+/-0.001) for {'alpha': 20.085536923187668}\n",
      "-0.027 (+/-0.001) for {'alpha': 54.598150033144236}\n",
      "-0.027 (+/-0.001) for {'alpha': 148.4131591025766}\n",
      "-0.028 (+/-0.001) for {'alpha': 403.4287934927351}\n",
      "-0.034 (+/-0.001) for {'alpha': 1096.6331584284585}\n"
     ]
    }
   ],
   "source": [
    "# Step 1\n",
    "estimator = Ridge()\n",
    "\n",
    "# Step 2\n",
    "h_parameters = [{'alpha': [np.exp(i) for i in range(-4,8)]}]\n",
    "\n",
    "# Step 3\n",
    "best_params = CV_with_GridSearch(estimator, h_parameters, 10, X_train10000, y_train10000)"
   ]
  },
  {
   "cell_type": "code",
   "execution_count": 16,
   "metadata": {},
   "outputs": [
    {
     "name": "stdout",
     "output_type": "stream",
     "text": [
      "RESULTS\n",
      "\n",
      "Model: Ridge(alpha=20.085536923187668, copy_X=True, fit_intercept=True,\n",
      "   max_iter=None, normalize=False, random_state=None, solver='auto',\n",
      "   tol=0.001):\n",
      "\n",
      "Training set size: 10000 samples\n",
      "----\n",
      "Train MAE: 0.026835587411905705\n",
      "Test MAE: 0.026944755629168315\n",
      "\n",
      "95.0% Confidence interval for test MAE = [0.02641136967673206 and 0.027519739633749565]\n"
     ]
    },
    {
     "data": {
      "image/png": "[encoded data removed]",
      "text/plain": [
       "<Figure size 288x288 with 1 Axes>"
      ]
     },
     "metadata": {
      "needs_background": "light"
     },
     "output_type": "display_data"
    }
   ],
   "source": [
    "# Step 4\n",
    "ridge_model = Ridge(alpha= best_params['alpha'])\n",
    "\n",
    "# Step 5\n",
    "ridge_model, MAE_test_ridge, CI_ridge = estimate_model_results(\n",
    "    ridge_model, X_train10000, y_train10000, X_test, y_test, bootstrap_results=True)"
   ]
  },
  {
   "cell_type": "markdown",
   "metadata": {},
   "source": [
    "<a id=\"lasso\"></a>\n",
    "### Part 6: Lasso regression \n",
    "\n",
    "#### 6.1 Training on 1000 samples"
   ]
  },
  {
   "cell_type": "code",
   "execution_count": 17,
   "metadata": {},
   "outputs": [
    {
     "name": "stdout",
     "output_type": "stream",
     "text": [
      "Best parameters set found on development set:\n",
      "\n",
      "{'alpha': 0.0009118819655545162}\n",
      "\n",
      "Grid scores on training set:\n",
      "\n",
      "-0.026 (+/-0.002) for {'alpha': 0.00033546262790251185}\n",
      "-0.026 (+/-0.002) for {'alpha': 0.0009118819655545162}\n",
      "-0.026 (+/-0.002) for {'alpha': 0.0024787521766663585}\n",
      "-0.028 (+/-0.002) for {'alpha': 0.006737946999085467}\n",
      "-0.038 (+/-0.002) for {'alpha': 0.01831563888873418}\n",
      "-0.057 (+/-0.002) for {'alpha': 0.049787068367863944}\n",
      "-0.125 (+/-0.003) for {'alpha': 0.1353352832366127}\n",
      "-0.156 (+/-0.003) for {'alpha': 0.36787944117144233}\n"
     ]
    }
   ],
   "source": [
    "# Step 1\n",
    "estimator = Lasso()\n",
    "\n",
    "# Step 2\n",
    "h_parameters = [{'alpha': [np.exp(i) for i in range(-8,0)]}]\n",
    "\n",
    "# Step 3\n",
    "best_params = CV_with_GridSearch(estimator, h_parameters, 10, X_train1000, y_train1000)"
   ]
  },
  {
   "cell_type": "code",
   "execution_count": 18,
   "metadata": {},
   "outputs": [
    {
     "name": "stdout",
     "output_type": "stream",
     "text": [
      "RESULTS\n",
      "\n",
      "Model: Lasso(alpha=0.0009118819655545162, copy_X=True, fit_intercept=True,\n",
      "   max_iter=1000, normalize=False, positive=False, precompute=False,\n",
      "   random_state=None, selection='cyclic', tol=0.0001, warm_start=False):\n",
      "\n",
      "Training set size: 1000 samples\n",
      "----\n",
      "Train MAE: 0.025968101232298545\n",
      "Test MAE: 0.02709667236460458\n",
      "\n",
      "95.0% Confidence interval for test MAE = [0.026519758369530504 and 0.027723894511769976]\n"
     ]
    },
    {
     "data": {
      "image/png": "[encoded data removed]",
      "text/plain": [
       "<Figure size 288x288 with 1 Axes>"
      ]
     },
     "metadata": {
      "needs_background": "light"
     },
     "output_type": "display_data"
    }
   ],
   "source": [
    "# Step 4\n",
    "lasso_model = Lasso(alpha= best_params['alpha'])\n",
    "\n",
    "# Step 5\n",
    "lasso_model, MAE_test_lasso, CI_lasso = estimate_model_results(\n",
    "    lasso_model, X_train1000, y_train1000, X_test, y_test, bootstrap_results=True)"
   ]
  },
  {
   "cell_type": "markdown",
   "metadata": {},
   "source": [
    "#### 6.2 Training on 5000 samples"
   ]
  },
  {
   "cell_type": "code",
   "execution_count": 19,
   "metadata": {},
   "outputs": [
    {
     "name": "stdout",
     "output_type": "stream",
     "text": [
      "Best parameters set found on development set:\n",
      "\n",
      "{'alpha': 0.0009118819655545162}\n",
      "\n",
      "Grid scores on training set:\n",
      "\n",
      "-0.027 (+/-0.000) for {'alpha': 0.00033546262790251185}\n",
      "-0.027 (+/-0.000) for {'alpha': 0.0009118819655545162}\n",
      "-0.027 (+/-0.000) for {'alpha': 0.0024787521766663585}\n",
      "-0.028 (+/-0.001) for {'alpha': 0.006737946999085467}\n",
      "-0.038 (+/-0.002) for {'alpha': 0.01831563888873418}\n",
      "-0.056 (+/-0.003) for {'alpha': 0.049787068367863944}\n",
      "-0.123 (+/-0.003) for {'alpha': 0.1353352832366127}\n",
      "-0.155 (+/-0.002) for {'alpha': 0.36787944117144233}\n"
     ]
    }
   ],
   "source": [
    "# Step 1\n",
    "estimator = Lasso()\n",
    "\n",
    "# Step 2\n",
    "h_parameters = [{'alpha': [np.exp(i) for i in range(-8,0)]}]\n",
    "\n",
    "# Step 3\n",
    "best_params = CV_with_GridSearch(estimator, h_parameters, 10, X_train5000, y_train5000)"
   ]
  },
  {
   "cell_type": "code",
   "execution_count": 20,
   "metadata": {
    "scrolled": false
   },
   "outputs": [
    {
     "name": "stdout",
     "output_type": "stream",
     "text": [
      "RESULTS\n",
      "\n",
      "Model: Lasso(alpha=0.0009118819655545162, copy_X=True, fit_intercept=True,\n",
      "   max_iter=1000, normalize=False, positive=False, precompute=False,\n",
      "   random_state=None, selection='cyclic', tol=0.0001, warm_start=False):\n",
      "\n",
      "Training set size: 5000 samples\n",
      "----\n",
      "Train MAE: 0.026682431325179994\n",
      "Test MAE: 0.02720101488946406\n",
      "\n",
      "95.0% Confidence interval for test MAE = [0.02669404964531468 and 0.02778796797400843]\n"
     ]
    },
    {
     "data": {
      "image/png": "[encoded data removed]",
      "text/plain": [
       "<Figure size 288x288 with 1 Axes>"
      ]
     },
     "metadata": {
      "needs_background": "light"
     },
     "output_type": "display_data"
    }
   ],
   "source": [
    "# Step 4\n",
    "lasso_model = Lasso(alpha= best_params['alpha'])\n",
    "\n",
    "# Step 5\n",
    "lasso_model, MAE_test_lasso, CI_lasso = estimate_model_results(\n",
    "    lasso_model, X_train5000, y_train5000, X_test, y_test, bootstrap_results=True)"
   ]
  },
  {
   "cell_type": "markdown",
   "metadata": {},
   "source": [
    "#### 6.3 Training on 5000 samples"
   ]
  },
  {
   "cell_type": "code",
   "execution_count": 21,
   "metadata": {},
   "outputs": [
    {
     "name": "stdout",
     "output_type": "stream",
     "text": [
      "Best parameters set found on development set:\n",
      "\n",
      "{'alpha': 0.0009118819655545162}\n",
      "\n",
      "Grid scores on training set:\n",
      "\n",
      "-0.027 (+/-0.001) for {'alpha': 0.00033546262790251185}\n",
      "-0.027 (+/-0.001) for {'alpha': 0.0009118819655545162}\n",
      "-0.027 (+/-0.001) for {'alpha': 0.0024787521766663585}\n",
      "-0.028 (+/-0.001) for {'alpha': 0.006737946999085467}\n",
      "-0.038 (+/-0.002) for {'alpha': 0.01831563888873418}\n",
      "-0.056 (+/-0.003) for {'alpha': 0.049787068367863944}\n",
      "-0.123 (+/-0.006) for {'alpha': 0.1353352832366127}\n",
      "-0.155 (+/-0.004) for {'alpha': 0.36787944117144233}\n"
     ]
    }
   ],
   "source": [
    "# Step 1\n",
    "estimator = Lasso()\n",
    "\n",
    "# Step 2\n",
    "h_parameters = [{'alpha': [np.exp(i) for i in range(-8,0)]}]\n",
    "\n",
    "# Step 3\n",
    "best_params = CV_with_GridSearch(estimator, h_parameters, 10, X_train10000, y_train10000)"
   ]
  },
  {
   "cell_type": "code",
   "execution_count": 22,
   "metadata": {},
   "outputs": [
    {
     "name": "stdout",
     "output_type": "stream",
     "text": [
      "RESULTS\n",
      "\n",
      "Model: Lasso(alpha=0.0009118819655545162, copy_X=True, fit_intercept=True,\n",
      "   max_iter=1000, normalize=False, positive=False, precompute=False,\n",
      "   random_state=None, selection='cyclic', tol=0.0001, warm_start=False):\n",
      "\n",
      "Training set size: 5000 samples\n",
      "----\n",
      "Train MAE: 0.026682431325179994\n",
      "Test MAE: 0.02720101488946406\n",
      "\n",
      "95.0% Confidence interval for test MAE = [0.0266418699855782 and 0.02779312733070548]\n"
     ]
    },
    {
     "data": {
      "image/png": "[encoded data removed]",
      "text/plain": [
       "<Figure size 288x288 with 1 Axes>"
      ]
     },
     "metadata": {
      "needs_background": "light"
     },
     "output_type": "display_data"
    }
   ],
   "source": [
    "# Step 4\n",
    "lasso_model = Lasso(alpha= best_params['alpha'])\n",
    "\n",
    "# Step 5\n",
    "lasso_model, MAE_test_lasso, CI_lasso = estimate_model_results(\n",
    "    lasso_model, X_train5000, y_train5000, X_test, y_test, bootstrap_results=True)"
   ]
  },
  {
   "cell_type": "markdown",
   "metadata": {},
   "source": [
    "<a id=\"RF\"></a>\n",
    "### Part 7: Random Forest\n",
    "\n",
    "#### 7.1 Training on 1000 samples"
   ]
  },
  {
   "cell_type": "code",
   "execution_count": 23,
   "metadata": {},
   "outputs": [
    {
     "name": "stdout",
     "output_type": "stream",
     "text": [
      "Best parameters set found on development set:\n",
      "\n",
      "{'max_features': 4}\n",
      "\n",
      "Grid scores on training set:\n",
      "\n",
      "-0.041 (+/-0.003) for {'max_features': 1}\n",
      "-0.023 (+/-0.002) for {'max_features': 2}\n",
      "-0.018 (+/-0.002) for {'max_features': 3}\n",
      "-0.017 (+/-0.001) for {'max_features': 4}\n"
     ]
    }
   ],
   "source": [
    "# Step 1\n",
    "estimator = RandomForestRegressor(n_estimators=100, random_state=10)\n",
    "\n",
    "# Step 2\n",
    "h_parameters = [{'max_features': range(1,5)}]\n",
    "\n",
    "# Step 3\n",
    "best_params = CV_with_GridSearch(estimator, h_parameters, 10, X_train1000, y_train1000)"
   ]
  },
  {
   "cell_type": "code",
   "execution_count": 24,
   "metadata": {},
   "outputs": [
    {
     "name": "stdout",
     "output_type": "stream",
     "text": [
      "RESULTS\n",
      "\n",
      "Model: RandomForestRegressor(bootstrap=True, criterion='mse', max_depth=None,\n",
      "           max_features=5, max_leaf_nodes=None, min_impurity_decrease=0.0,\n",
      "           min_impurity_split=None, min_samples_leaf=1,\n",
      "           min_samples_split=2, min_weight_fraction_leaf=0.0,\n",
      "           n_estimators=500, n_jobs=None, oob_score=False, random_state=10,\n",
      "           verbose=0, warm_start=False):\n",
      "\n",
      "Training set size: 1000 samples\n",
      "----\n",
      "Train MAE: 0.005693639999999963\n",
      "Test MAE: 0.01662230399999999\n"
     ]
    }
   ],
   "source": [
    "# Step 4\n",
    "RF = RandomForestRegressor(n_estimators=500, random_state=10, max_features=5)\n",
    "\n",
    "# Step 5\n",
    "RF_model, MAE_test_RF, CI_RF = estimate_model_results(\n",
    "    RF, X_train1000, y_train1000, X_test, y_test, bootstrap_results=False)"
   ]
  },
  {
   "cell_type": "markdown",
   "metadata": {},
   "source": [
    "#### 7.2 Training on 5000 samples"
   ]
  },
  {
   "cell_type": "code",
   "execution_count": 25,
   "metadata": {},
   "outputs": [
    {
     "name": "stdout",
     "output_type": "stream",
     "text": [
      "Best parameters set found on development set:\n",
      "\n",
      "{'max_features': 4}\n",
      "\n",
      "Grid scores on training set:\n",
      "\n",
      "-0.024 (+/-0.000) for {'max_features': 1}\n",
      "-0.013 (+/-0.001) for {'max_features': 2}\n",
      "-0.011 (+/-0.000) for {'max_features': 3}\n",
      "-0.010 (+/-0.001) for {'max_features': 4}\n"
     ]
    }
   ],
   "source": [
    "# Step 1\n",
    "estimator = RandomForestRegressor(n_estimators=100, random_state=10)\n",
    "\n",
    "# Step 2\n",
    "h_parameters = [{'max_features': range(1,5)}]\n",
    "\n",
    "# Step 3\n",
    "best_params = CV_with_GridSearch(estimator, h_parameters, 10, X_train5000, y_train5000)"
   ]
  },
  {
   "cell_type": "code",
   "execution_count": 26,
   "metadata": {},
   "outputs": [
    {
     "name": "stdout",
     "output_type": "stream",
     "text": [
      "RESULTS\n",
      "\n",
      "Model: RandomForestRegressor(bootstrap=True, criterion='mse', max_depth=None,\n",
      "           max_features=4, max_leaf_nodes=None, min_impurity_decrease=0.0,\n",
      "           min_impurity_split=None, min_samples_leaf=1,\n",
      "           min_samples_split=2, min_weight_fraction_leaf=0.0,\n",
      "           n_estimators=500, n_jobs=None, oob_score=False, random_state=10,\n",
      "           verbose=0, warm_start=False):\n",
      "\n",
      "Training set size: 5000 samples\n",
      "----\n",
      "Train MAE: 0.0034007439999999833\n",
      "Test MAE: 0.010151239999999976\n"
     ]
    }
   ],
   "source": [
    "# Step 4\n",
    "RF = RandomForestRegressor(n_estimators=500, random_state=10, max_features=4)\n",
    "\n",
    "# Step 5\n",
    "RF_model, MAE_test_RF, CI_RF = estimate_model_results(\n",
    "    RF, X_train5000, y_train5000, X_test, y_test, bootstrap_results=False)"
   ]
  },
  {
   "cell_type": "markdown",
   "metadata": {},
   "source": [
    "#### 7.3 Training on 10000 samples"
   ]
  },
  {
   "cell_type": "code",
   "execution_count": 27,
   "metadata": {},
   "outputs": [
    {
     "name": "stdout",
     "output_type": "stream",
     "text": [
      "Best parameters set found on development set:\n",
      "\n",
      "{'max_features': 4}\n",
      "\n",
      "Grid scores on training set:\n",
      "\n",
      "-0.018 (+/-0.001) for {'max_features': 1}\n",
      "-0.011 (+/-0.000) for {'max_features': 2}\n",
      "-0.009 (+/-0.000) for {'max_features': 3}\n",
      "-0.009 (+/-0.000) for {'max_features': 4}\n"
     ]
    }
   ],
   "source": [
    "# Step 1\n",
    "estimator = RandomForestRegressor(n_estimators=100, random_state=10)\n",
    "\n",
    "# Step 2\n",
    "h_parameters = [{'max_features': range(1,5)}]\n",
    "\n",
    "# Step 3\n",
    "best_params = CV_with_GridSearch(estimator, h_parameters, 10, X_train10000, y_train10000)"
   ]
  },
  {
   "cell_type": "code",
   "execution_count": 28,
   "metadata": {},
   "outputs": [
    {
     "name": "stdout",
     "output_type": "stream",
     "text": [
      "RESULTS\n",
      "\n",
      "Model: RandomForestRegressor(bootstrap=True, criterion='mse', max_depth=None,\n",
      "           max_features=4, max_leaf_nodes=None, min_impurity_decrease=0.0,\n",
      "           min_impurity_split=None, min_samples_leaf=1,\n",
      "           min_samples_split=2, min_weight_fraction_leaf=0.0,\n",
      "           n_estimators=500, n_jobs=None, oob_score=False, random_state=10,\n",
      "           verbose=0, warm_start=False):\n",
      "\n",
      "Training set size: 10000 samples\n",
      "----\n",
      "Train MAE: 0.002771088000000002\n",
      "Test MAE: 0.008068599999999947\n"
     ]
    }
   ],
   "source": [
    "# Step 4\n",
    "RF = RandomForestRegressor(n_estimators=500, random_state=10, max_features=4)\n",
    "\n",
    "# Step 5\n",
    "RF_model, MAE_test_RF, CI_RF = estimate_model_results(\n",
    "    RF, X_train10000, y_train10000, X_test, y_test, bootstrap_results=False)"
   ]
  },
  {
   "cell_type": "markdown",
   "metadata": {},
   "source": [
    "<a id=\"CART\"></a>\n",
    "### Part 8: Decision Tree\n",
    "\n",
    "#### 8.1 Training on 1000 samples"
   ]
  },
  {
   "cell_type": "code",
   "execution_count": 29,
   "metadata": {
    "scrolled": true
   },
   "outputs": [
    {
     "name": "stdout",
     "output_type": "stream",
     "text": [
      "Best parameters set found on development set:\n",
      "\n",
      "{'min_impurity_decrease': 0.0}\n",
      "\n",
      "Grid scores on training set:\n",
      "\n",
      "-0.024 (+/-0.003) for {'min_impurity_decrease': 0.0}\n",
      "-0.050 (+/-0.003) for {'min_impurity_decrease': 0.001}\n",
      "-0.050 (+/-0.003) for {'min_impurity_decrease': 0.002}\n",
      "-0.074 (+/-0.019) for {'min_impurity_decrease': 0.003}\n",
      "-0.080 (+/-0.002) for {'min_impurity_decrease': 0.004}\n",
      "-0.080 (+/-0.002) for {'min_impurity_decrease': 0.005}\n",
      "-0.080 (+/-0.002) for {'min_impurity_decrease': 0.006}\n",
      "-0.080 (+/-0.002) for {'min_impurity_decrease': 0.007}\n",
      "-0.080 (+/-0.002) for {'min_impurity_decrease': 0.008}\n",
      "-0.080 (+/-0.002) for {'min_impurity_decrease': 0.009000000000000001}\n",
      "-0.080 (+/-0.002) for {'min_impurity_decrease': 0.01}\n"
     ]
    }
   ],
   "source": [
    "# Step 1\n",
    "estimator = DecisionTreeRegressor(min_samples_leaf=5, random_state=10)\n",
    "\n",
    "# Step 2\n",
    "h_parameters = [{'min_impurity_decrease': np.linspace(0,0.01, 11)}]\n",
    "\n",
    "# Step 3\n",
    "best_params = CV_with_GridSearch(estimator, h_parameters, 10, X_train1000, y_train1000)"
   ]
  },
  {
   "cell_type": "code",
   "execution_count": 30,
   "metadata": {},
   "outputs": [
    {
     "name": "stdout",
     "output_type": "stream",
     "text": [
      "RESULTS\n",
      "\n",
      "Model: DecisionTreeRegressor(criterion='mse', max_depth=None, max_features=None,\n",
      "           max_leaf_nodes=None, min_impurity_decrease=0.0,\n",
      "           min_impurity_split=None, min_samples_leaf=5,\n",
      "           min_samples_split=2, min_weight_fraction_leaf=0.0,\n",
      "           presort=False, random_state=10, splitter='best'):\n",
      "\n",
      "Training set size: 1000 samples\n",
      "----\n",
      "Train MAE: 0.012834015873015872\n",
      "Test MAE: 0.021740847619047616\n"
     ]
    }
   ],
   "source": [
    "# Step 4\n",
    "CART_model = DecisionTreeRegressor(min_samples_leaf=5, random_state=10)\n",
    "\n",
    "# Step 5\n",
    "CART_model, MAE_test_CART, CI_CART = estimate_model_results(\n",
    "    CART_model, X_train1000, y_train1000, X_test, y_test, bootstrap_results=False)"
   ]
  },
  {
   "cell_type": "markdown",
   "metadata": {},
   "source": [
    "#### 8.2 Training on 5000 samples"
   ]
  },
  {
   "cell_type": "code",
   "execution_count": 31,
   "metadata": {},
   "outputs": [
    {
     "name": "stdout",
     "output_type": "stream",
     "text": [
      "Best parameters set found on development set:\n",
      "\n",
      "{'min_impurity_decrease': 0.0}\n",
      "\n",
      "Grid scores on training set:\n",
      "\n",
      "-0.015 (+/-0.000) for {'min_impurity_decrease': 0.0}\n",
      "-0.050 (+/-0.001) for {'min_impurity_decrease': 0.001}\n",
      "-0.050 (+/-0.001) for {'min_impurity_decrease': 0.002}\n",
      "-0.069 (+/-0.017) for {'min_impurity_decrease': 0.003}\n",
      "-0.082 (+/-0.002) for {'min_impurity_decrease': 0.004}\n",
      "-0.082 (+/-0.002) for {'min_impurity_decrease': 0.005}\n",
      "-0.082 (+/-0.002) for {'min_impurity_decrease': 0.006}\n",
      "-0.082 (+/-0.002) for {'min_impurity_decrease': 0.007}\n",
      "-0.082 (+/-0.002) for {'min_impurity_decrease': 0.008}\n",
      "-0.082 (+/-0.002) for {'min_impurity_decrease': 0.009000000000000001}\n",
      "-0.082 (+/-0.002) for {'min_impurity_decrease': 0.01}\n"
     ]
    }
   ],
   "source": [
    "# Step 1\n",
    "estimator = DecisionTreeRegressor(min_samples_leaf=5, random_state=10)\n",
    "\n",
    "# Step 2\n",
    "h_parameters = [{'min_impurity_decrease': np.linspace(0,0.01, 11)}]\n",
    "\n",
    "# Step 3\n",
    "best_params = CV_with_GridSearch(estimator, h_parameters, 10, X_train5000, y_train5000)"
   ]
  },
  {
   "cell_type": "code",
   "execution_count": 32,
   "metadata": {},
   "outputs": [
    {
     "name": "stdout",
     "output_type": "stream",
     "text": [
      "RESULTS\n",
      "\n",
      "Model: DecisionTreeRegressor(criterion='mse', max_depth=None, max_features=None,\n",
      "           max_leaf_nodes=None, min_impurity_decrease=0.0,\n",
      "           min_impurity_split=None, min_samples_leaf=5,\n",
      "           min_samples_split=2, min_weight_fraction_leaf=0.0,\n",
      "           presort=False, random_state=10, splitter='best'):\n",
      "\n",
      "Training set size: 5000 samples\n",
      "----\n",
      "Train MAE: 0.008430158730158739\n",
      "Test MAE: 0.014257552380952387\n"
     ]
    }
   ],
   "source": [
    "# Step 4\n",
    "CART_model = DecisionTreeRegressor(min_samples_leaf=5, random_state=10)\n",
    "\n",
    "# Step 5\n",
    "CART_model, MAE_test_CART, CI_CART = estimate_model_results(\n",
    "    CART_model, X_train5000, y_train5000, X_test, y_test, bootstrap_results=False)"
   ]
  },
  {
   "cell_type": "markdown",
   "metadata": {},
   "source": [
    "#### 8.3 Training on 10000 samples"
   ]
  },
  {
   "cell_type": "code",
   "execution_count": 33,
   "metadata": {},
   "outputs": [
    {
     "name": "stdout",
     "output_type": "stream",
     "text": [
      "Best parameters set found on development set:\n",
      "\n",
      "{'min_impurity_decrease': 0.0}\n",
      "\n",
      "Grid scores on training set:\n",
      "\n",
      "-0.013 (+/-0.000) for {'min_impurity_decrease': 0.0}\n",
      "-0.049 (+/-0.001) for {'min_impurity_decrease': 0.001}\n",
      "-0.049 (+/-0.001) for {'min_impurity_decrease': 0.002}\n",
      "-0.081 (+/-0.000) for {'min_impurity_decrease': 0.003}\n",
      "-0.081 (+/-0.000) for {'min_impurity_decrease': 0.004}\n",
      "-0.081 (+/-0.000) for {'min_impurity_decrease': 0.005}\n",
      "-0.081 (+/-0.000) for {'min_impurity_decrease': 0.006}\n",
      "-0.081 (+/-0.000) for {'min_impurity_decrease': 0.007}\n",
      "-0.081 (+/-0.000) for {'min_impurity_decrease': 0.008}\n",
      "-0.081 (+/-0.000) for {'min_impurity_decrease': 0.009000000000000001}\n",
      "-0.081 (+/-0.000) for {'min_impurity_decrease': 0.01}\n"
     ]
    }
   ],
   "source": [
    "# Step 1\n",
    "estimator = DecisionTreeRegressor(min_samples_leaf=5, random_state=10)\n",
    "\n",
    "# Step 2\n",
    "h_parameters = [{'min_impurity_decrease': np.linspace(0,0.01, 11)}]\n",
    "\n",
    "# Step 3\n",
    "best_params = CV_with_GridSearch(estimator, h_parameters, 10, X_train10000, y_train10000)"
   ]
  },
  {
   "cell_type": "code",
   "execution_count": 34,
   "metadata": {},
   "outputs": [
    {
     "name": "stdout",
     "output_type": "stream",
     "text": [
      "RESULTS\n",
      "\n",
      "Model: DecisionTreeRegressor(criterion='mse', max_depth=None, max_features=None,\n",
      "           max_leaf_nodes=None, min_impurity_decrease=0.0,\n",
      "           min_impurity_split=None, min_samples_leaf=1,\n",
      "           min_samples_split=2, min_weight_fraction_leaf=0.0,\n",
      "           presort=False, random_state=10, splitter='best'):\n",
      "\n",
      "Training set size: 10000 samples\n",
      "----\n",
      "Train MAE: 1.7892284875919983e-17\n",
      "Test MAE: 0.010964000000000014\n"
     ]
    }
   ],
   "source": [
    "# Step 4\n",
    "CART_model = DecisionTreeRegressor(random_state=10)\n",
    "\n",
    "# Step 5\n",
    "CART_model, MAE_test_CART, CI_CART = estimate_model_results(\n",
    "    CART_model, X_train10000, y_train10000, X_test, y_test, bootstrap_results=False)"
   ]
  },
  {
   "cell_type": "markdown",
   "metadata": {},
   "source": [
    "<a id=\"boosting\"></a>\n",
    "### Part 9: Boosting\n",
    "#### 9.1 Training on 1000 samples"
   ]
  },
  {
   "cell_type": "code",
   "execution_count": 35,
   "metadata": {
    "scrolled": false
   },
   "outputs": [
    {
     "name": "stdout",
     "output_type": "stream",
     "text": [
      "Best parameters set found on development set:\n",
      "\n",
      "{'max_depth': 4.0}\n",
      "\n",
      "Grid scores on training set:\n",
      "\n",
      "-0.025 (+/-0.001) for {'max_depth': 1.0}\n",
      "-0.016 (+/-0.001) for {'max_depth': 2.0}\n",
      "-0.014 (+/-0.002) for {'max_depth': 3.0}\n",
      "-0.013 (+/-0.002) for {'max_depth': 4.0}\n",
      "-0.013 (+/-0.002) for {'max_depth': 5.0}\n",
      "-0.015 (+/-0.002) for {'max_depth': 6.0}\n",
      "-0.017 (+/-0.003) for {'max_depth': 7.0}\n",
      "-0.018 (+/-0.003) for {'max_depth': 8.0}\n",
      "-0.020 (+/-0.003) for {'max_depth': 9.0}\n",
      "-0.022 (+/-0.002) for {'max_depth': 10.0}\n"
     ]
    }
   ],
   "source": [
    "# Step 1\n",
    "estimator = GradientBoostingRegressor(n_estimators=500, random_state=10)\n",
    "\n",
    "# Step 2\n",
    "h_parameters = [{'max_depth': np.linspace(1,10,10)}]\n",
    "\n",
    "# Step 3\n",
    "best_params = CV_with_GridSearch(estimator, h_parameters, 10, X_train1000, y_train1000)"
   ]
  },
  {
   "cell_type": "code",
   "execution_count": 36,
   "metadata": {},
   "outputs": [
    {
     "name": "stdout",
     "output_type": "stream",
     "text": [
      "RESULTS\n",
      "\n",
      "Model: GradientBoostingRegressor(alpha=0.9, criterion='friedman_mse', init=None,\n",
      "             learning_rate=0.1, loss='ls', max_depth=3, max_features=None,\n",
      "             max_leaf_nodes=None, min_impurity_decrease=0.0,\n",
      "             min_impurity_split=None, min_samples_leaf=1,\n",
      "             min_samples_split=2, min_weight_fraction_leaf=0.0,\n",
      "             n_estimators=500, n_iter_no_change=None, presort='auto',\n",
      "             random_state=10, subsample=1.0, tol=0.0001,\n",
      "             validation_fraction=0.1, verbose=0, warm_start=False):\n",
      "\n",
      "Training set size: 1000 samples\n",
      "----\n",
      "Train MAE: 0.0057582589811360696\n",
      "Test MAE: 0.012176176204996978\n"
     ]
    }
   ],
   "source": [
    "# Step 4\n",
    "GBC_model = GradientBoostingRegressor(n_estimators=500, random_state=10)\n",
    "\n",
    "# Step 5\n",
    "GBC_model, MAE_test_GBC, CI_GBC = estimate_model_results(\n",
    "    GBC_model, X_train1000, y_train1000, X_test, y_test, bootstrap_results=False)"
   ]
  },
  {
   "cell_type": "markdown",
   "metadata": {},
   "source": [
    "<a id=\"PLS\"></a>\n",
    "### Part 10: Partial Least Squares\n",
    "\n",
    "The goal of partial least squares is to identify linear combinations that best represent the original features. PLS is a supervised learning alternative to PCR. This is a dimensionality reduction technique with the aim of reducing the number of features to a more management number while still retaining \"most\" of the \"patterns in the data. \n",
    "\n",
    "While in the previous models my goal was to find hyperparameters that minimized MAE using `CV_with_GridSearch`, PLS's motive is slightly different. Thus I don't use Step 1-3, as I did previously."
   ]
  },
  {
   "cell_type": "markdown",
   "metadata": {},
   "source": [
    "#### Visualize impact of components on error"
   ]
  },
  {
   "cell_type": "code",
   "execution_count": 37,
   "metadata": {},
   "outputs": [
    {
     "data": {
      "image/png": "[encoded data removed]",
      "text/plain": [
       "<Figure size 480x320 with 1 Axes>"
      ]
     },
     "metadata": {},
     "output_type": "display_data"
    }
   ],
   "source": [
    "# Steps 1-3 - not relevant\n",
    "\n",
    "PLS_mae1000, PLS_mae5000, PLS_mae10000  = [], [], []\n",
    "\n",
    "# Run PLS with different numbers of components\n",
    "for i in np.arange(1, 5):\n",
    "    pls_CV = PLSRegression(n_components=i) \n",
    "    score1000 = -1*cross_val_score(pls_CV, X_train1000, y_train1000, cv=5, scoring='neg_mean_absolute_error').mean()\n",
    "    score5000 = -1*cross_val_score(pls_CV, X_train5000, y_train5000, cv=5, scoring='neg_mean_absolute_error').mean()\n",
    "    score10000 = -1*cross_val_score(pls_CV, X_train10000, y_train10000, cv=5, scoring='neg_mean_absolute_error').mean()\n",
    "    PLS_mae1000.append(score1000)\n",
    "    PLS_mae5000.append(score5000)\n",
    "    PLS_mae10000.append(score10000)\n",
    "\n",
    "# Plot results\n",
    "plt.figure(num=1, figsize=(6,4), dpi=80, facecolor='w', edgecolor='k')\n",
    "plt.title('PLS: Num components vs MAE')\n",
    "\n",
    "plt.plot(np.arange(1, 5), np.array(PLS_mae1000), label='1000 training samples')\n",
    "plt.plot(np.arange(1, 5), np.array(PLS_mae5000), label='5000 training samples')\n",
    "plt.plot(np.arange(1, 5), np.array(PLS_mae10000), label='10000 training samples')\n",
    "plt.xlim([1,4])\n",
    "plt.legend()\n",
    "plt.ylabel('MAE')\n",
    "plt.show()"
   ]
  },
  {
   "cell_type": "markdown",
   "metadata": {},
   "source": [
    "It looks like I can use 2 components with only marginal increases in error."
   ]
  },
  {
   "cell_type": "markdown",
   "metadata": {},
   "source": [
    "#### 10.1 Training on 1000 samples"
   ]
  },
  {
   "cell_type": "code",
   "execution_count": 38,
   "metadata": {},
   "outputs": [
    {
     "name": "stdout",
     "output_type": "stream",
     "text": [
      "RESULTS\n",
      "\n",
      "Model: Lasso(alpha=0.0009118819655545162, copy_X=True, fit_intercept=True,\n",
      "   max_iter=1000, normalize=False, positive=False, precompute=False,\n",
      "   random_state=None, selection='cyclic', tol=0.0001, warm_start=False):\n",
      "\n",
      "Training set size: 1000 samples\n",
      "----\n",
      "Train MAE: 0.025968101232298545\n",
      "Test MAE: 0.02709667236460458\n",
      "\n",
      "95.0% Confidence interval for test MAE = [0.02648903739428075 and 0.02767432115083583]\n"
     ]
    },
    {
     "data": {
      "image/png": "[encoded data removed]",
      "text/plain": [
       "<Figure size 288x288 with 1 Axes>"
      ]
     },
     "metadata": {
      "needs_background": "light"
     },
     "output_type": "display_data"
    }
   ],
   "source": [
    "# Step 4\n",
    "PLS_model = PLSRegression(n_components= 2)\n",
    "\n",
    "# Step 5\n",
    "PLS_model, MAE_test_PLS, CI_PLS = estimate_model_results(\n",
    "    lasso_model, X_train1000, y_train1000, X_test, y_test, bootstrap_results=True)"
   ]
  },
  {
   "cell_type": "markdown",
   "metadata": {},
   "source": [
    "#### 10.2 Training on 5000 samples"
   ]
  },
  {
   "cell_type": "code",
   "execution_count": 39,
   "metadata": {},
   "outputs": [
    {
     "name": "stdout",
     "output_type": "stream",
     "text": [
      "RESULTS\n",
      "\n",
      "Model: Lasso(alpha=0.0009118819655545162, copy_X=True, fit_intercept=True,\n",
      "   max_iter=1000, normalize=False, positive=False, precompute=False,\n",
      "   random_state=None, selection='cyclic', tol=0.0001, warm_start=False):\n",
      "\n",
      "Training set size: 5000 samples\n",
      "----\n",
      "Train MAE: 0.026682431325179994\n",
      "Test MAE: 0.02720101488946406\n",
      "\n",
      "95.0% Confidence interval for test MAE = [0.026645673308945513 and 0.02780218577989313]\n"
     ]
    },
    {
     "data": {
      "image/png": "[encoded data removed]",
      "text/plain": [
       "<Figure size 288x288 with 1 Axes>"
      ]
     },
     "metadata": {
      "needs_background": "light"
     },
     "output_type": "display_data"
    }
   ],
   "source": [
    "# Step 4\n",
    "PLS_model = PLSRegression(n_components= 2)\n",
    "\n",
    "# Step 5\n",
    "PLS_model, MAE_test_PLS, CI_PLS = estimate_model_results(\n",
    "    lasso_model, X_train5000, y_train5000, X_test, y_test, bootstrap_results=True)"
   ]
  },
  {
   "cell_type": "markdown",
   "metadata": {},
   "source": [
    "#### 10.3 Training on 10000 samples"
   ]
  },
  {
   "cell_type": "code",
   "execution_count": 40,
   "metadata": {
    "scrolled": false
   },
   "outputs": [
    {
     "name": "stdout",
     "output_type": "stream",
     "text": [
      "RESULTS\n",
      "\n",
      "Model: Lasso(alpha=0.0009118819655545162, copy_X=True, fit_intercept=True,\n",
      "   max_iter=1000, normalize=False, positive=False, precompute=False,\n",
      "   random_state=None, selection='cyclic', tol=0.0001, warm_start=False):\n",
      "\n",
      "Training set size: 10000 samples\n",
      "----\n",
      "Train MAE: 0.026755345412479602\n",
      "Test MAE: 0.02691651094748569\n",
      "\n",
      "95.0% Confidence interval for test MAE = [0.026366776983789798 and 0.02750178770206209]\n"
     ]
    },
    {
     "data": {
      "image/png": "[encoded data removed]",
      "text/plain": [
       "<Figure size 288x288 with 1 Axes>"
      ]
     },
     "metadata": {
      "needs_background": "light"
     },
     "output_type": "display_data"
    }
   ],
   "source": [
    "# Step 4\n",
    "PLS_model = PLSRegression(n_components= 2)\n",
    "\n",
    "# Step 5\n",
    "PLS_model, MAE_test_PLS, CI_PLS = estimate_model_results(\n",
    "    lasso_model, X_train10000, y_train10000, X_test, y_test, bootstrap_results=True)"
   ]
  },
  {
   "cell_type": "markdown",
   "metadata": {},
   "source": [
    "# Under construction..."
   ]
  },
  {
   "cell_type": "code",
   "execution_count": null,
   "metadata": {},
   "outputs": [],
   "source": []
  }
 ],
 "metadata": {
  "kernelspec": {
   "display_name": "Python 3",
   "language": "python",
   "name": "python3"
  },
  "language_info": {
   "codemirror_mode": {
    "name": "ipython",
    "version": 3
   },
   "file_extension": ".py",
   "mimetype": "text/x-python",
   "name": "python",
   "nbconvert_exporter": "python",
   "pygments_lexer": "ipython3",
   "version": "3.6.8"
  }
 },
 "nbformat": 4,
 "nbformat_minor": 2
}
